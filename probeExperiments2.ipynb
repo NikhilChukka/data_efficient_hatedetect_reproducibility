{
 "cells": [
  {
   "cell_type": "code",
   "execution_count": 1,
   "id": "e4c1bd67-8682-42b5-879c-3fa60003b16e",
   "metadata": {},
   "outputs": [],
   "source": [
    "import matplotlib.pyplot as plt\n",
    "import numpy as np\n",
    "import pandas as pd\n",
    "import torch\n",
    "import torch.nn as nn\n",
    "from torch.utils.data import Dataset, DataLoader\n",
    "from transformers import AutoTokenizer, AutoModel\n",
    "from sklearn.metrics import f1_score\n",
    "from tqdm import tqdm\n",
    "import os\n",
    "\n",
    "# Use CUDA if available\n",
    "use_cuda = torch.cuda.is_available()\n",
    "device = torch.device(\"cuda:0\" if use_cuda else \"cpu\")\n",
    "\n",
    "# Define the dataset class\n",
    "class HateData(Dataset):\n",
    "    def __init__(self, data_path, split='train', lang='bengali', layer=1, model_name='roberta-base'):\n",
    "        self.layer = layer\n",
    "        self.model_name = model_name\n",
    "        self.split = split\n",
    "        self.lang = lang\n",
    "        self.data_path = data_path\n",
    "        self.embedding_file = f\"{data_path}{lang}_{split}_layer_{layer}_{model_name.replace('/', '_')}_embeddings.npy\"\n",
    "        self.df = pd.read_csv(data_path + lang + \"_\" + split + \".tsv\", sep='\\t')\n",
    "\n",
    "        if os.path.exists(self.embedding_file):\n",
    "            # Load precomputed embeddings if they exist\n",
    "            self.embeddings = np.load(self.embedding_file)\n",
    "            print(f\"Loaded embeddings from {self.embedding_file}\")\n",
    "        else:\n",
    "            # Otherwise generate and save them\n",
    "            self.embeddings = self.generate_embeddings()\n",
    "            np.save(self.embedding_file, self.embeddings)\n",
    "            print(f\"Saved embeddings to {self.embedding_file}\")\n",
    "\n",
    "    def generate_embeddings(self):\n",
    "        tokenizer = AutoTokenizer.from_pretrained(self.model_name)\n",
    "        model = AutoModel.from_pretrained(self.model_name).to(device)\n",
    "        model.eval()\n",
    "\n",
    "        embeddings = []\n",
    "        for text in tqdm(self.df['post'], desc=\"Generating embeddings\"):\n",
    "            inputs = tokenizer(text, return_tensors=\"pt\", padding='max_length', truncation=True, max_length=128).to(device)\n",
    "            with torch.no_grad():\n",
    "                outputs = model(**inputs, output_hidden_states=True)\n",
    "            embeddings.append(outputs.hidden_states[self.layer].mean(dim=1).squeeze().cpu().numpy())\n",
    "\n",
    "        return np.array(embeddings)\n",
    "\n",
    "    def __len__(self):\n",
    "        return len(self.embeddings)\n",
    "\n",
    "    def __getitem__(self, index):\n",
    "        emb = self.embeddings[index]\n",
    "        labels = self.df.iloc[index][1]\n",
    "        \n",
    "        emb = torch.tensor(emb, dtype=torch.float).view(768)\n",
    "        labels = torch.tensor(labels, dtype=torch.long)\n",
    "\n",
    "        return emb, labels\n",
    "\n",
    "# Define the classifier class\n",
    "class Classifier(nn.Module):\n",
    "    def __init__(self):\n",
    "        super(Classifier, self).__init__()\n",
    "        H1, H2, num_class = 768, 128, 2\n",
    "        self.clf = nn.Sequential(nn.Linear(H1, H2), nn.ReLU(), nn.Linear(H2, num_class))\n",
    "\n",
    "    def forward(self, emb):  \n",
    "        logits = self.clf(emb)\n",
    "        return logits\n",
    "\n",
    "# Training and evaluation functions\n",
    "def train(emb, label, model, model_opt, scdl):\n",
    "    model_opt.zero_grad()\n",
    "    loss_fn = nn.CrossEntropyLoss()\n",
    "    batch_size = emb.shape[0]\n",
    "\n",
    "    if use_cuda:\n",
    "        emb = emb.to(device)\n",
    "        label = label.to(device)\n",
    "\n",
    "    label = label.flatten()\n",
    "    logits = model(emb)\n",
    "    loss = loss_fn(logits, label)\n",
    "\n",
    "    loss.backward()\n",
    "    model_opt.step()\n",
    "    scdl.step()\n",
    "    return float(loss.item())\n",
    "\n",
    "def evaluate(emb, label, model):\n",
    "    with torch.no_grad():\n",
    "        if use_cuda:\n",
    "            emb = emb.to(device)\n",
    "            label = label.to(device)\n",
    "\n",
    "        label = label.flatten()\n",
    "        logits = model(emb)\n",
    "        preds = torch.argmax(logits, dim=1).flatten()\n",
    "        return preds.cpu().numpy()\n",
    "\n",
    "# Training iterations function\n",
    "def trainIters(layer, model, epochs, train_loader, test_loader, learning_rate=1e-3):\n",
    "    model_opt = torch.optim.AdamW(model.parameters(), lr=learning_rate, eps=1e-8)\n",
    "    num_train_steps = (len(train_loader) * epochs)\n",
    "    scdl = torch.optim.lr_scheduler.StepLR(model_opt, step_size=100, gamma=0.9)\n",
    "\n",
    "    gt_labels = np.array(pd.read_csv(\"data/latenthatred/latent_test.tsv\", sep='\\t')['class'])\n",
    "    best_f1 = 0.0\n",
    "\n",
    "    for epoch in range(epochs):\n",
    "        model.train()  \n",
    "        for entry in tqdm(train_loader, desc=f\"Epoch {epoch+1}/{epochs}\", leave=False):\n",
    "            train(entry[0], entry[1], model, model_opt, scdl)\n",
    "        \n",
    "        model.eval()\n",
    "        test_preds = []\n",
    "        for entry in tqdm(test_loader, desc=\"Evaluating\", leave=False):\n",
    "            preds = evaluate(entry[0], entry[1], model)\n",
    "            test_preds.extend(preds)\n",
    "\n",
    "        val_f1 = f1_score(gt_labels, test_preds, average='macro')\n",
    "        best_f1 = max(best_f1, val_f1)\n",
    "\n",
    "    return best_f1"
   ]
  },
  {
   "cell_type": "code",
   "execution_count": 2,
   "id": "f70123bd-7e4b-4e8d-9728-794dde6113bf",
   "metadata": {},
   "outputs": [
    {
     "name": "stdout",
     "output_type": "stream",
     "text": [
      "\n",
      "Probing model: roberta-base\n",
      "\n",
      "Training for layer 2\n",
      "Loaded embeddings from data/latenthatred/latent_train_layer_2_roberta-base_embeddings.npy\n",
      "Loaded embeddings from data/latenthatred/latent_test_layer_2_roberta-base_embeddings.npy\n"
     ]
    },
    {
     "name": "stderr",
     "output_type": "stream",
     "text": [
      "                                                               \r"
     ]
    },
    {
     "name": "stdout",
     "output_type": "stream",
     "text": [
      "\n",
      "Training for layer 4\n",
      "Loaded embeddings from data/latenthatred/latent_train_layer_4_roberta-base_embeddings.npy\n",
      "Loaded embeddings from data/latenthatred/latent_test_layer_4_roberta-base_embeddings.npy\n"
     ]
    },
    {
     "name": "stderr",
     "output_type": "stream",
     "text": [
      "                                                               \r"
     ]
    },
    {
     "name": "stdout",
     "output_type": "stream",
     "text": [
      "\n",
      "Training for layer 6\n",
      "Loaded embeddings from data/latenthatred/latent_train_layer_6_roberta-base_embeddings.npy\n",
      "Loaded embeddings from data/latenthatred/latent_test_layer_6_roberta-base_embeddings.npy\n"
     ]
    },
    {
     "name": "stderr",
     "output_type": "stream",
     "text": [
      "                                                               \r"
     ]
    },
    {
     "name": "stdout",
     "output_type": "stream",
     "text": [
      "\n",
      "Training for layer 8\n",
      "Loaded embeddings from data/latenthatred/latent_train_layer_8_roberta-base_embeddings.npy\n",
      "Loaded embeddings from data/latenthatred/latent_test_layer_8_roberta-base_embeddings.npy\n"
     ]
    },
    {
     "name": "stderr",
     "output_type": "stream",
     "text": [
      "                                                               \r"
     ]
    },
    {
     "name": "stdout",
     "output_type": "stream",
     "text": [
      "\n",
      "Training for layer 10\n",
      "Loaded embeddings from data/latenthatred/latent_train_layer_10_roberta-base_embeddings.npy\n",
      "Loaded embeddings from data/latenthatred/latent_test_layer_10_roberta-base_embeddings.npy\n"
     ]
    },
    {
     "name": "stderr",
     "output_type": "stream",
     "text": [
      "                                                               \r"
     ]
    },
    {
     "name": "stdout",
     "output_type": "stream",
     "text": [
      "\n",
      "Training for layer 12\n",
      "Loaded embeddings from data/latenthatred/latent_train_layer_12_roberta-base_embeddings.npy\n",
      "Loaded embeddings from data/latenthatred/latent_test_layer_12_roberta-base_embeddings.npy\n"
     ]
    },
    {
     "name": "stderr",
     "output_type": "stream",
     "text": [
      "                                                               \r"
     ]
    },
    {
     "name": "stdout",
     "output_type": "stream",
     "text": [
      "\n",
      "Probing model: cardiffnlp/twitter-roberta-base\n",
      "\n",
      "Training for layer 2\n",
      "Loaded embeddings from data/latenthatred/latent_train_layer_2_cardiffnlp_twitter-roberta-base_embeddings.npy\n",
      "Loaded embeddings from data/latenthatred/latent_test_layer_2_cardiffnlp_twitter-roberta-base_embeddings.npy\n"
     ]
    },
    {
     "name": "stderr",
     "output_type": "stream",
     "text": [
      "                                                               \r"
     ]
    },
    {
     "name": "stdout",
     "output_type": "stream",
     "text": [
      "\n",
      "Training for layer 4\n",
      "Loaded embeddings from data/latenthatred/latent_train_layer_4_cardiffnlp_twitter-roberta-base_embeddings.npy\n",
      "Loaded embeddings from data/latenthatred/latent_test_layer_4_cardiffnlp_twitter-roberta-base_embeddings.npy\n"
     ]
    },
    {
     "name": "stderr",
     "output_type": "stream",
     "text": [
      "                                                               \r"
     ]
    },
    {
     "name": "stdout",
     "output_type": "stream",
     "text": [
      "\n",
      "Training for layer 6\n",
      "Loaded embeddings from data/latenthatred/latent_train_layer_6_cardiffnlp_twitter-roberta-base_embeddings.npy\n",
      "Loaded embeddings from data/latenthatred/latent_test_layer_6_cardiffnlp_twitter-roberta-base_embeddings.npy\n"
     ]
    },
    {
     "name": "stderr",
     "output_type": "stream",
     "text": [
      "                                                               \r"
     ]
    },
    {
     "name": "stdout",
     "output_type": "stream",
     "text": [
      "\n",
      "Training for layer 8\n"
     ]
    },
    {
     "name": "stderr",
     "output_type": "stream",
     "text": [
      "Generating embeddings: 100%|██████████| 14273/14273 [01:59<00:00, 119.02it/s]\n"
     ]
    },
    {
     "name": "stdout",
     "output_type": "stream",
     "text": [
      "Saved embeddings to data/latenthatred/latent_train_layer_8_cardiffnlp_twitter-roberta-base_embeddings.npy\n"
     ]
    },
    {
     "name": "stderr",
     "output_type": "stream",
     "text": [
      "Generating embeddings: 100%|██████████| 4079/4079 [00:34<00:00, 119.12it/s]\n"
     ]
    },
    {
     "name": "stdout",
     "output_type": "stream",
     "text": [
      "Saved embeddings to data/latenthatred/latent_test_layer_8_cardiffnlp_twitter-roberta-base_embeddings.npy\n"
     ]
    },
    {
     "name": "stderr",
     "output_type": "stream",
     "text": [
      "                                                               \r"
     ]
    },
    {
     "name": "stdout",
     "output_type": "stream",
     "text": [
      "\n",
      "Training for layer 10\n"
     ]
    },
    {
     "name": "stderr",
     "output_type": "stream",
     "text": [
      "Generating embeddings: 100%|██████████| 14273/14273 [01:59<00:00, 119.04it/s]\n"
     ]
    },
    {
     "name": "stdout",
     "output_type": "stream",
     "text": [
      "Saved embeddings to data/latenthatred/latent_train_layer_10_cardiffnlp_twitter-roberta-base_embeddings.npy\n"
     ]
    },
    {
     "name": "stderr",
     "output_type": "stream",
     "text": [
      "Generating embeddings: 100%|██████████| 4079/4079 [00:34<00:00, 119.09it/s]\n"
     ]
    },
    {
     "name": "stdout",
     "output_type": "stream",
     "text": [
      "Saved embeddings to data/latenthatred/latent_test_layer_10_cardiffnlp_twitter-roberta-base_embeddings.npy\n"
     ]
    },
    {
     "name": "stderr",
     "output_type": "stream",
     "text": [
      "                                                               \r"
     ]
    },
    {
     "name": "stdout",
     "output_type": "stream",
     "text": [
      "\n",
      "Training for layer 12\n"
     ]
    },
    {
     "name": "stderr",
     "output_type": "stream",
     "text": [
      "Generating embeddings: 100%|██████████| 14273/14273 [01:59<00:00, 119.18it/s]\n"
     ]
    },
    {
     "name": "stdout",
     "output_type": "stream",
     "text": [
      "Saved embeddings to data/latenthatred/latent_train_layer_12_cardiffnlp_twitter-roberta-base_embeddings.npy\n"
     ]
    },
    {
     "name": "stderr",
     "output_type": "stream",
     "text": [
      "Generating embeddings: 100%|██████████| 4079/4079 [00:34<00:00, 119.17it/s]\n"
     ]
    },
    {
     "name": "stdout",
     "output_type": "stream",
     "text": [
      "Saved embeddings to data/latenthatred/latent_test_layer_12_cardiffnlp_twitter-roberta-base_embeddings.npy\n"
     ]
    },
    {
     "name": "stderr",
     "output_type": "stream",
     "text": [
      "                                                               \r"
     ]
    },
    {
     "name": "stdout",
     "output_type": "stream",
     "text": [
      "\n",
      "Probing model: cardiffnlp/twitter-roberta-base-sentiment\n",
      "\n",
      "Training for layer 2\n",
      "Loaded embeddings from data/latenthatred/latent_train_layer_2_cardiffnlp_twitter-roberta-base-sentiment_embeddings.npy\n",
      "Loaded embeddings from data/latenthatred/latent_test_layer_2_cardiffnlp_twitter-roberta-base-sentiment_embeddings.npy\n"
     ]
    },
    {
     "name": "stderr",
     "output_type": "stream",
     "text": [
      "                                                               \r"
     ]
    },
    {
     "name": "stdout",
     "output_type": "stream",
     "text": [
      "\n",
      "Training for layer 4\n",
      "Loaded embeddings from data/latenthatred/latent_train_layer_4_cardiffnlp_twitter-roberta-base-sentiment_embeddings.npy\n",
      "Loaded embeddings from data/latenthatred/latent_test_layer_4_cardiffnlp_twitter-roberta-base-sentiment_embeddings.npy\n"
     ]
    },
    {
     "name": "stderr",
     "output_type": "stream",
     "text": [
      "                                                               \r"
     ]
    },
    {
     "name": "stdout",
     "output_type": "stream",
     "text": [
      "\n",
      "Training for layer 6\n"
     ]
    },
    {
     "name": "stderr",
     "output_type": "stream",
     "text": [
      "Some weights of RobertaModel were not initialized from the model checkpoint at cardiffnlp/twitter-roberta-base-sentiment and are newly initialized: ['roberta.pooler.dense.bias', 'roberta.pooler.dense.weight']\n",
      "You should probably TRAIN this model on a down-stream task to be able to use it for predictions and inference.\n",
      "Generating embeddings: 100%|██████████| 14273/14273 [02:00<00:00, 118.75it/s]\n"
     ]
    },
    {
     "name": "stdout",
     "output_type": "stream",
     "text": [
      "Saved embeddings to data/latenthatred/latent_train_layer_6_cardiffnlp_twitter-roberta-base-sentiment_embeddings.npy\n"
     ]
    },
    {
     "name": "stderr",
     "output_type": "stream",
     "text": [
      "Some weights of RobertaModel were not initialized from the model checkpoint at cardiffnlp/twitter-roberta-base-sentiment and are newly initialized: ['roberta.pooler.dense.bias', 'roberta.pooler.dense.weight']\n",
      "You should probably TRAIN this model on a down-stream task to be able to use it for predictions and inference.\n",
      "Generating embeddings: 100%|██████████| 4079/4079 [00:34<00:00, 118.93it/s]\n"
     ]
    },
    {
     "name": "stdout",
     "output_type": "stream",
     "text": [
      "Saved embeddings to data/latenthatred/latent_test_layer_6_cardiffnlp_twitter-roberta-base-sentiment_embeddings.npy\n"
     ]
    },
    {
     "name": "stderr",
     "output_type": "stream",
     "text": [
      "                                                               \r"
     ]
    },
    {
     "name": "stdout",
     "output_type": "stream",
     "text": [
      "\n",
      "Training for layer 8\n"
     ]
    },
    {
     "name": "stderr",
     "output_type": "stream",
     "text": [
      "Some weights of RobertaModel were not initialized from the model checkpoint at cardiffnlp/twitter-roberta-base-sentiment and are newly initialized: ['roberta.pooler.dense.bias', 'roberta.pooler.dense.weight']\n",
      "You should probably TRAIN this model on a down-stream task to be able to use it for predictions and inference.\n",
      "Generating embeddings: 100%|██████████| 14273/14273 [01:59<00:00, 119.11it/s]\n"
     ]
    },
    {
     "name": "stdout",
     "output_type": "stream",
     "text": [
      "Saved embeddings to data/latenthatred/latent_train_layer_8_cardiffnlp_twitter-roberta-base-sentiment_embeddings.npy\n"
     ]
    },
    {
     "name": "stderr",
     "output_type": "stream",
     "text": [
      "Some weights of RobertaModel were not initialized from the model checkpoint at cardiffnlp/twitter-roberta-base-sentiment and are newly initialized: ['roberta.pooler.dense.bias', 'roberta.pooler.dense.weight']\n",
      "You should probably TRAIN this model on a down-stream task to be able to use it for predictions and inference.\n",
      "Generating embeddings: 100%|██████████| 4079/4079 [00:34<00:00, 119.16it/s]\n"
     ]
    },
    {
     "name": "stdout",
     "output_type": "stream",
     "text": [
      "Saved embeddings to data/latenthatred/latent_test_layer_8_cardiffnlp_twitter-roberta-base-sentiment_embeddings.npy\n"
     ]
    },
    {
     "name": "stderr",
     "output_type": "stream",
     "text": [
      "                                                               \r"
     ]
    },
    {
     "name": "stdout",
     "output_type": "stream",
     "text": [
      "\n",
      "Training for layer 10\n"
     ]
    },
    {
     "name": "stderr",
     "output_type": "stream",
     "text": [
      "Some weights of RobertaModel were not initialized from the model checkpoint at cardiffnlp/twitter-roberta-base-sentiment and are newly initialized: ['roberta.pooler.dense.bias', 'roberta.pooler.dense.weight']\n",
      "You should probably TRAIN this model on a down-stream task to be able to use it for predictions and inference.\n",
      "Generating embeddings: 100%|██████████| 14273/14273 [02:00<00:00, 118.88it/s]\n"
     ]
    },
    {
     "name": "stdout",
     "output_type": "stream",
     "text": [
      "Saved embeddings to data/latenthatred/latent_train_layer_10_cardiffnlp_twitter-roberta-base-sentiment_embeddings.npy\n"
     ]
    },
    {
     "name": "stderr",
     "output_type": "stream",
     "text": [
      "Some weights of RobertaModel were not initialized from the model checkpoint at cardiffnlp/twitter-roberta-base-sentiment and are newly initialized: ['roberta.pooler.dense.bias', 'roberta.pooler.dense.weight']\n",
      "You should probably TRAIN this model on a down-stream task to be able to use it for predictions and inference.\n",
      "Generating embeddings: 100%|██████████| 4079/4079 [00:34<00:00, 119.00it/s]\n"
     ]
    },
    {
     "name": "stdout",
     "output_type": "stream",
     "text": [
      "Saved embeddings to data/latenthatred/latent_test_layer_10_cardiffnlp_twitter-roberta-base-sentiment_embeddings.npy\n"
     ]
    },
    {
     "name": "stderr",
     "output_type": "stream",
     "text": [
      "                                                               \r"
     ]
    },
    {
     "name": "stdout",
     "output_type": "stream",
     "text": [
      "\n",
      "Training for layer 12\n"
     ]
    },
    {
     "name": "stderr",
     "output_type": "stream",
     "text": [
      "Some weights of RobertaModel were not initialized from the model checkpoint at cardiffnlp/twitter-roberta-base-sentiment and are newly initialized: ['roberta.pooler.dense.bias', 'roberta.pooler.dense.weight']\n",
      "You should probably TRAIN this model on a down-stream task to be able to use it for predictions and inference.\n",
      "Generating embeddings: 100%|██████████| 14273/14273 [02:00<00:00, 118.68it/s]\n"
     ]
    },
    {
     "name": "stdout",
     "output_type": "stream",
     "text": [
      "Saved embeddings to data/latenthatred/latent_train_layer_12_cardiffnlp_twitter-roberta-base-sentiment_embeddings.npy\n"
     ]
    },
    {
     "name": "stderr",
     "output_type": "stream",
     "text": [
      "Some weights of RobertaModel were not initialized from the model checkpoint at cardiffnlp/twitter-roberta-base-sentiment and are newly initialized: ['roberta.pooler.dense.bias', 'roberta.pooler.dense.weight']\n",
      "You should probably TRAIN this model on a down-stream task to be able to use it for predictions and inference.\n",
      "Generating embeddings: 100%|██████████| 4079/4079 [00:34<00:00, 118.79it/s]\n"
     ]
    },
    {
     "name": "stdout",
     "output_type": "stream",
     "text": [
      "Saved embeddings to data/latenthatred/latent_test_layer_12_cardiffnlp_twitter-roberta-base-sentiment_embeddings.npy\n"
     ]
    },
    {
     "name": "stderr",
     "output_type": "stream",
     "text": [
      "                                                               \r"
     ]
    },
    {
     "data": {
      "image/png": "[encoded data removed]",
      "text/plain": [
       "<Figure size 720x432 with 1 Axes>"
      ]
     },
     "metadata": {
      "needs_background": "light"
     },
     "output_type": "display_data"
    }
   ],
   "source": [
    "# Main code for probing across different layers and plotting results\n",
    "models_to_probe = ['roberta-base','cardiffnlp/twitter-roberta-base', 'cardiffnlp/twitter-roberta-base-sentiment']\n",
    "layer_list = [2, 4, 6, 8, 10, 12]\n",
    "plt.figure(figsize=(10, 6))\n",
    "for model_name in models_to_probe:\n",
    "    print(f\"\\nProbing model: {model_name}\")\n",
    "    f1_scores = []\n",
    "\n",
    "    for layer in layer_list:\n",
    "        print(f\"\\nTraining for layer {layer}\")\n",
    "        train_data = HateData(data_path=\"data/latenthatred/\", split='train', lang='latent', layer=layer, model_name=model_name)\n",
    "        val_data = HateData(data_path=\"data/latenthatred/\", split='test', lang='latent', layer=layer, model_name=model_name)\n",
    "\n",
    "        BS = 64\n",
    "        dataload = DataLoader(train_data, batch_size=BS, shuffle=True)\n",
    "        dataload_val = DataLoader(val_data, batch_size=BS, shuffle=False)\n",
    "\n",
    "        model = Classifier().to(device).float()\n",
    "\n",
    "        f1_score_layer = trainIters(layer, model, epochs=50, train_loader=dataload, test_loader=dataload_val)\n",
    "        f1_scores.append(f1_score_layer)\n",
    "\n",
    "    # Plotting the results for the current model\n",
    "    plt.plot(layer_list, f1_scores, marker='o', linestyle='-', label=model_name)\n",
    "plt.xlabel('Layer Number')\n",
    "plt.ylabel('F1 Score')\n",
    "plt.title(f'F1 Score for Different Layers in Probing Experiment')\n",
    "plt.xticks(layer_list)\n",
    "# plt.yticks(np.arange(0, 1.1, 0.1))  # Make y-axis broader by using a larger step\n",
    "plt.grid()\n",
    "plt.legend()\n",
    "plt.show()\n"
   ]
  }
 ],
 "metadata": {
  "kernelspec": {
   "display_name": "Python 3 (ipykernel)",
   "language": "python",
   "name": "python3"
  },
  "language_info": {
   "codemirror_mode": {
    "name": "ipython",
    "version": 3
   },
   "file_extension": ".py",
   "mimetype": "text/x-python",
   "name": "python",
   "nbconvert_exporter": "python",
   "pygments_lexer": "ipython3",
   "version": "3.9.9"
  }
 },
 "nbformat": 4,
 "nbformat_minor": 5
}
